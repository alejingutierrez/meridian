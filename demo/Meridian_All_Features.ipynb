{
 "cells": [
  {
   "cell_type": "markdown",
   "metadata": {},
   "source": [
    "<table class=\"tfo-notebook-buttons\" align=\"left\">\n",
    "  <td>\n",
    "    <a target=\"_blank\" href=\"https://colab.research.google.com/github/google/meridian/blob/main/demo/Meridian_All_Features.ipynb\"><img src=\"https://www.tensorflow.org/images/colab_logo_32px.png\" />Run in Google Colab</a>\n",
    "  </td>\n",
    "  <td>\n",
    "    <a target=\"_blank\" href=\"https://github.com/google/meridian/blob/main/demo/Meridian_All_Features.ipynb\"><img src=\"https://www.tensorflow.org/images/GitHub-Mark-32px.png\" />View source on GitHub</a>\n",
    "  </td>\n",
    "</table>"
   ]
  },
  {
   "cell_type": "markdown",
   "metadata": {},
   "source": [
    "# Meridian All Features Demo"
   ]
  },
  {
   "cell_type": "markdown",
   "metadata": {},
   "source": [
    "This notebook demonstrates the end to end usage of the Meridian library. \n",
    "It loads sample data, configures a model, runs sampling, generates diagnostics, \n",
    "creates summary reports, performs budget optimization and shows how to save the model."
   ]
  },
  {
   "cell_type": "markdown",
   "metadata": {},
   "source": [
    "## Step 0: Install"
   ]
  },
  {
   "cell_type": "code",
   "metadata": {},
   "source": [
    "# Uncomment to install from PyPI\n",
    "# !pip install --upgrade google-meridian[colab,and-cuda]\n",
    "\n",
    "import tensorflow as tf\n",
    "from psutil import virtual_memory\n",
    "print(f'RAM: {virtual_memory().total/1e9:.1f} GB')\n",
    "print('GPUs:', tf.config.list_physical_devices('GPU'))"
   ]
  },
  {
   "cell_type": "markdown",
   "metadata": {},
   "source": [
    "## Step 1: Load the data"
   ]
  },
  {
   "cell_type": "code",
   "metadata": {},
   "source": [
    "from meridian.data import load\n",
    "csv_url = 'https://raw.githubusercontent.com/google/meridian/main/meridian/data/simulated_data/csv/geo_all_channels.csv'\n",
    "coord_to_columns = load.CoordToColumns(\n",
    "    time='time',\n",
    "    geo='geo',\n",
    "    controls=['sentiment_score_control', 'competitor_sales_control'],\n",
    "    population='population',\n",
    "    kpi='conversions',\n",
    "    revenue_per_kpi='revenue_per_conversion',\n",
    "    media=[\n",
    "        'Channel0_impression',\n",
    "        'Channel1_impression',\n",
    "        'Channel2_impression',\n",
    "        'Channel3_impression',\n",
    "        'Channel4_impression',\n",
    "    ],\n",
    "    media_spend=[\n",
    "        'Channel0_spend',\n",
    "        'Channel1_spend',\n",
    "        'Channel2_spend',\n",
    "        'Channel3_spend',\n",
    "        'Channel4_spend',\n",
    "    ],\n",
    "    organic_media=['Organic_channel0_impression'],\n",
    "    non_media_treatments=['Promo'],\n",
    ")\n",
    "correct_media_to_channel = {\n",
    "    'Channel0_impression': 'Channel_0',\n",
    "    'Channel1_impression': 'Channel_1',\n",
    "    'Channel2_impression': 'Channel_2',\n",
    "    'Channel3_impression': 'Channel_3',\n",
    "    'Channel4_impression': 'Channel_4',\n",
    "}\n",
    "correct_media_spend_to_channel = {\n",
    "    'Channel0_spend': 'Channel_0',\n",
    "    'Channel1_spend': 'Channel_1',\n",
    "    'Channel2_spend': 'Channel_2',\n",
    "    'Channel3_spend': 'Channel_3',\n",
    "    'Channel4_spend': 'Channel_4',\n",
    "}\n",
    "loader = load.CsvDataLoader(\n",
    "    csv_path=csv_url,\n",
    "    kpi_type='non_revenue',\n",
    "    coord_to_columns=coord_to_columns,\n",
    "    media_to_channel=correct_media_to_channel,\n",
    "    media_spend_to_channel=correct_media_spend_to_channel,\n",
    ")\n",
    "data = loader.load()"
   ]
  },
  {
   "cell_type": "markdown",
   "metadata": {},
   "source": [
    "## Step 2: Configure the model"
   ]
  },
  {
   "cell_type": "code",
   "metadata": {},
   "source": [
    "from meridian.model import model, spec, prior_distribution\n",
    "import tensorflow_probability as tfp\n",
    "from meridian import constants\n",
    "roi_mu = 0.2\n",
    "roi_sigma = 0.9\n",
    "prior = prior_distribution.PriorDistribution(\n",
    "    roi_m=tfp.distributions.LogNormal(roi_mu, roi_sigma, name=constants.ROI_M)\n",
    ")\n",
    "model_spec = spec.ModelSpec(prior=prior)\n",
    "mmm = model.Meridian(input_data=data, model_spec=model_spec)"
   ]
  },
  {
   "cell_type": "markdown",
   "metadata": {},
   "source": [
    "## Step 3: Sample from the model"
   ]
  },
  {
   "cell_type": "code",
   "metadata": {},
   "source": [
    "mmm.sample_prior(500)\n",
    "mmm.sample_posterior(n_chains=4, n_adapt=1000, n_burnin=500, n_keep=500, seed=1)"
   ]
  },
  {
   "cell_type": "markdown",
   "metadata": {},
   "source": [
    "## Step 4: Diagnostics"
   ]
  },
  {
   "cell_type": "code",
   "metadata": {},
   "source": [
    "from meridian.analysis import visualizer\n",
    "model_diagnostics = visualizer.ModelDiagnostics(mmm)\n",
    "model_diagnostics.plot_rhat_boxplot()\n",
    "model_fit = visualizer.ModelFit(mmm)\n",
    "model_fit.plot_model_fit()"
   ]
  },
  {
   "cell_type": "markdown",
   "metadata": {},
   "source": [
    "## Step 5: Summarize results"
   ]
  },
  {
   "cell_type": "code",
   "metadata": {},
   "source": [
    "from meridian.analysis import summarizer\n",
    "mmm_summarizer = summarizer.Summarizer(mmm)\n",
    "mmm_summarizer.output_model_results_summary('summary_output.html', '/content', '2021-01-25', '2024-01-15')"
   ]
  },
  {
   "cell_type": "markdown",
   "metadata": {},
   "source": [
    "## Step 6: Run budget optimization"
   ]
  },
  {
   "cell_type": "code",
   "metadata": {},
   "source": [
    "from meridian.analysis import optimizer\n",
    "budget_optimizer = optimizer.BudgetOptimizer(mmm)\n",
    "optimization_results = budget_optimizer.optimize()\n",
    "optimization_results.output_optimization_summary('optimization_output.html', '/content')"
   ]
  },
  {
   "cell_type": "markdown",
   "metadata": {},
   "source": [
    "## Step 7: Save and load the model"
   ]
  },
  {
   "cell_type": "code",
   "metadata": {},
   "source": [
    "from meridian.model import load_mmm, save_mmm\n",
    "file_path = '/content/saved_mmm.pkl'\n",
    "model.save_mmm(mmm, file_path)\n",
    "mmm = model.load_mmm(file_path)"
   ]
  }
 ],
 "metadata": {
  "kernelspec": {
   "display_name": "Python 3",
   "language": "python",
   "name": "python3"
  },
  "language_info": {
   "name": "python",
   "version": "3.10"
  }
 },
 "nbformat": 4,
 "nbformat_minor": 0
}
